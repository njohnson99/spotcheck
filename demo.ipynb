{
 "cells": [
  {
   "cell_type": "code",
   "execution_count": 1,
   "id": "3a939588",
   "metadata": {},
   "outputs": [],
   "source": [
    "from data_utils import *"
   ]
  },
  {
   "cell_type": "code",
   "execution_count": 2,
   "id": "94172541",
   "metadata": {},
   "outputs": [],
   "source": [
    "import json\n",
    "import os\n",
    "import pickle\n",
    "from pathlib import Path\n",
    "from PIL import Image\n",
    "import sys"
   ]
  },
  {
   "cell_type": "markdown",
   "id": "6621c8cf",
   "metadata": {},
   "source": [
    "## Sample an experimental configuration\n",
    "\n",
    "Uses the `data_utils.SyntheticEC` class to randomly sample the semantic features and blindspots for a single EC."
   ]
  },
  {
   "cell_type": "code",
   "execution_count": 3,
   "id": "6d4fd2de",
   "metadata": {},
   "outputs": [
    {
     "name": "stdout",
     "output_type": "stream",
     "text": [
      "[('background', 'presence', 1), ('background', 'relative-position', 1), ('circle', 'color', 0), ('circle', 'presence', 1), ('circle', 'texture', 1), ('square', 'number', 0), ('square', 'presence', 1), ('square', 'texture', 1)]\n",
      "[('background', 'presence', 1), ('background', 'relative-position', 0), ('circle', 'color', 0), ('circle', 'presence', 1), ('square', 'number', 1), ('square', 'presence', 1), ('square', 'size', 0), ('square', 'texture', 0)]\n",
      "\n",
      "Features\n",
      "background ['texture', 'relative-position']\n",
      "square ['size', 'texture', 'number']\n",
      "circle ['color', 'texture']\n",
      "\n",
      "Blindspots\n",
      "{'background': {'relative-position': 1}, 'circle': {'color': 0, 'presence': 1, 'texture': 1}, 'square': {'number': 0, 'texture': 1}}\n",
      "{'background': {'relative-position': 0}, 'circle': {'color': 0, 'presence': 1}, 'square': {'number': 1, 'size': 0, 'texture': 0}}\n",
      "\n"
     ]
    }
   ],
   "source": [
    "ec = SyntheticEC()\n",
    "ec.sample(verbose = True)"
   ]
  },
  {
   "cell_type": "code",
   "execution_count": 4,
   "id": "dc71f336",
   "metadata": {},
   "outputs": [
    {
     "name": "stdout",
     "output_type": "stream",
     "text": [
      "Generating data in:  ./data/sample_ec/test\n",
      "Generating data in:  ./data/sample_ec/val\n",
      "Generating data in:  ./data/sample_ec/train\n"
     ]
    }
   ],
   "source": [
    "ec_dir = './data/sample_ec'\n",
    "\n",
    "ec.save_dataset(directory = ec_dir,\n",
    "               num_train_images_per_bucket = 20,\n",
    "               num_val_images_per_bucket = 20,\n",
    "               num_test_images_per_bucket = 20)"
   ]
  },
  {
   "cell_type": "markdown",
   "id": "0087cafa",
   "metadata": {},
   "source": [
    "## Model Training: Demo\n",
    "\n",
    "Fine-tunes a pretrained ResNet-18 using the sample EC."
   ]
  },
  {
   "cell_type": "code",
   "execution_count": 5,
   "id": "e4f57fa7",
   "metadata": {},
   "outputs": [],
   "source": [
    "from torchvision.models import resnet18\n",
    "import torch\n",
    "from torch_utils import *"
   ]
  },
  {
   "cell_type": "code",
   "execution_count": 6,
   "id": "46a3c0d6",
   "metadata": {},
   "outputs": [],
   "source": [
    "# Load the model\n",
    "model = resnet18(pretrained = True)\n",
    "\n",
    "# Change the classification layer\n",
    "model.fc = torch.nn.Linear(in_features = 512, out_features = 1)"
   ]
  },
  {
   "cell_type": "code",
   "execution_count": 7,
   "id": "a00296f7",
   "metadata": {},
   "outputs": [],
   "source": [
    "files, labels = load_phase(ec_dir, 'train')\n",
    "dataset = ImageDataset(files, labels)\n",
    "train_loader = get_loader(dataset, batch_size = 16)\n",
    "\n",
    "# change to 'cuda' if available\n",
    "device = 'cpu'"
   ]
  },
  {
   "cell_type": "code",
   "execution_count": 8,
   "id": "bde9ddbc",
   "metadata": {},
   "outputs": [],
   "source": [
    "from tqdm.notebook import tqdm as tqdm"
   ]
  },
  {
   "cell_type": "code",
   "execution_count": 9,
   "id": "3c484123",
   "metadata": {},
   "outputs": [],
   "source": [
    "epochs = 10\n",
    "lr = 1e-4\n",
    "\n",
    "optimizer = torch.optim.Adam(model.parameters(), lr = lr)\n",
    "loss_fn = torch.nn.BCEWithLogitsLoss()"
   ]
  },
  {
   "cell_type": "code",
   "execution_count": null,
   "id": "70dc7943",
   "metadata": {},
   "outputs": [
    {
     "data": {
      "application/vnd.jupyter.widget-view+json": {
       "model_id": "6043a48d86ab4348946b3a2c110e0b4a",
       "version_major": 2,
       "version_minor": 0
      },
      "text/plain": [
       "  0%|          | 0/10 [00:00<?, ?it/s]"
      ]
     },
     "metadata": {},
     "output_type": "display_data"
    }
   ],
   "source": [
    "losses = []\n",
    "\n",
    "for epoch in tqdm(range(epochs)):\n",
    "    for x, y in train_loader:\n",
    "        x = x.to(device)\n",
    "        y = y.to(device)\n",
    "        optimizer.zero_grad()\n",
    "\n",
    "        # forward pass\n",
    "        y_hat = model(x)\n",
    "        loss = loss_fn(y_hat, y)\n",
    "        \n",
    "        # step\n",
    "        loss.backward()\n",
    "        optimizer.step()\n",
    "        \n",
    "    losses.append(loss.item())"
   ]
  },
  {
   "cell_type": "code",
   "execution_count": null,
   "id": "88c684b9",
   "metadata": {},
   "outputs": [],
   "source": []
  }
 ],
 "metadata": {
  "kernelspec": {
   "display_name": "spotcheck",
   "language": "python",
   "name": "spotcheck"
  },
  "language_info": {
   "codemirror_mode": {
    "name": "ipython",
    "version": 3
   },
   "file_extension": ".py",
   "mimetype": "text/x-python",
   "name": "python",
   "nbconvert_exporter": "python",
   "pygments_lexer": "ipython3",
   "version": "3.8.12"
  }
 },
 "nbformat": 4,
 "nbformat_minor": 5
}
