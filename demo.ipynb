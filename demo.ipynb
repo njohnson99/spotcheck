{
 "cells": [
  {
   "cell_type": "code",
   "execution_count": null,
   "id": "3a939588",
   "metadata": {},
   "outputs": [],
   "source": [
    "from data_utils import *"
   ]
  },
  {
   "cell_type": "code",
   "execution_count": null,
   "id": "94172541",
   "metadata": {},
   "outputs": [],
   "source": [
    "import json\n",
    "import os\n",
    "import pickle\n",
    "from pathlib import Path\n",
    "from PIL import Image\n",
    "import sys"
   ]
  },
  {
   "cell_type": "markdown",
   "id": "42cb78bf",
   "metadata": {},
   "source": [
    "## Sample an experimental configuration\n",
    "\n",
    "Uses the `data_utils.SyntheticEC` class to randomly sample the semantic features and blindspots for a single EC."
   ]
  },
  {
   "cell_type": "code",
   "execution_count": null,
   "id": "7f164179",
   "metadata": {},
   "outputs": [],
   "source": [
    "ec = SyntheticEC()\n",
    "ec.sample(verbose = True)"
   ]
  },
  {
   "cell_type": "code",
   "execution_count": null,
   "id": "2c5798cd",
   "metadata": {},
   "outputs": [],
   "source": [
    "ec_dir = './data/sample_ec'\n",
    "\n",
    "ec.save_dataset(directory = ec_dir,\n",
    "               num_train_images_per_bucket = 20,\n",
    "               num_val_images_per_bucket = 20,\n",
    "               num_test_images_per_bucket = 20)"
   ]
  },
  {
   "cell_type": "markdown",
   "id": "3a2bba37",
   "metadata": {},
   "source": [
    "## Model Training: Demo\n",
    "\n",
    "Fine-tunes a pretrained ResNet-18 using the sample EC."
   ]
  },
  {
   "cell_type": "code",
   "execution_count": null,
   "id": "8bf8634b",
   "metadata": {},
   "outputs": [],
   "source": [
    "from torchvision.models import resnet18\n",
    "import torch\n",
    "from torch_utils import *"
   ]
  },
  {
   "cell_type": "code",
   "execution_count": null,
   "id": "93b320c6",
   "metadata": {},
   "outputs": [],
   "source": [
    "# Load the model\n",
    "model = resnet18(pretrained = True)\n",
    "\n",
    "# Change the classification layer\n",
    "model.fc = torch.nn.Linear(in_features = 512, out_features = 1)"
   ]
  },
  {
   "cell_type": "code",
   "execution_count": null,
   "id": "c77da259",
   "metadata": {},
   "outputs": [],
   "source": [
    "files, labels = load_phase(ec_dir, 'train')\n",
    "dataset = ImageDataset(files, labels)\n",
    "train_loader = get_loader(dataset, batch_size = 16)\n",
    "\n",
    "# change to 'cuda' if available\n",
    "device = 'cpu'"
   ]
  },
  {
   "cell_type": "code",
   "execution_count": null,
   "id": "50e046e9",
   "metadata": {},
   "outputs": [],
   "source": [
    "from tqdm.notebook import tqdm as tqdm"
   ]
  },
  {
   "cell_type": "code",
   "execution_count": null,
   "id": "3ac7e4de",
   "metadata": {},
   "outputs": [],
   "source": [
    "epochs = 10\n",
    "lr = 1e-4\n",
    "\n",
    "optimizer = torch.optim.Adam(model.parameters(), lr = lr)\n",
    "loss_fn = torch.nn.BCEWithLogitsLoss()\n",
    "\n",
    "model.train();"
   ]
  },
  {
   "cell_type": "code",
   "execution_count": null,
   "id": "9adae7de",
   "metadata": {},
   "outputs": [],
   "source": [
    "losses = []\n",
    "\n",
    "for epoch in tqdm(range(epochs)):\n",
    "    for x, y in train_loader:\n",
    "        x = x.to(device)\n",
    "        y = y.to(device)\n",
    "        optimizer.zero_grad()\n",
    "\n",
    "        # forward pass\n",
    "        y_hat = model(x)\n",
    "        loss = loss_fn(y_hat, y)\n",
    "        \n",
    "        # step\n",
    "        loss.backward()\n",
    "        optimizer.step()\n",
    "        \n",
    "    losses.append(loss.item())"
   ]
  },
  {
   "cell_type": "code",
   "execution_count": null,
   "id": "11932e63",
   "metadata": {},
   "outputs": [],
   "source": []
  }
 ],
 "metadata": {
  "kernelspec": {
   "display_name": "spotcheck",
   "language": "python",
   "name": "spotcheck"
  },
  "language_info": {
   "codemirror_mode": {
    "name": "ipython",
    "version": 3
   },
   "file_extension": ".py",
   "mimetype": "text/x-python",
   "name": "python",
   "nbconvert_exporter": "python",
   "pygments_lexer": "ipython3",
   "version": "3.8.12"
  }
 },
 "nbformat": 4,
 "nbformat_minor": 5
}
